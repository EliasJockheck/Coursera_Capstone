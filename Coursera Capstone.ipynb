{
    "cells": [
        {
            "cell_type": "markdown",
            "metadata": {},
            "source": "Hello Everybody, this Notebook will be used for my final project in Applied Data Science"
        },
        {
            "cell_type": "code",
            "execution_count": 1,
            "metadata": {},
            "outputs": [],
            "source": "import pandas as pd\nimport numpy as np\nimport matplotlib.pyplot as plt\nimport seaborn as sns\nfrom sklearn.tree import DecisionTreeClassifier\n\n"
        },
        {
            "cell_type": "code",
            "execution_count": 2,
            "metadata": {},
            "outputs": [
                {
                    "name": "stdout",
                    "output_type": "stream",
                    "text": "Hello Capstone Project Course!\n"
                }
            ],
            "source": "print('Hello Capstone Project Course!')"
        },
        {
            "cell_type": "markdown",
            "metadata": {},
            "source": "# Business Understanding\n\nThe initial phase is to understand the project's objective from the business or application perspective. Then, you need to translate this knowledge into a machine learning problem with a preliminary plan to achieve the objectives."
        },
        {
            "cell_type": "markdown",
            "metadata": {},
            "source": "Say you are driving to another city for work or to visit some friends. It is rainy and windy, and on the way, you come across a terrible traffic jam on the other side of the highway. Long lines of cars barely moving. As you keep driving, police car start appearing from afar shutting down the highway. Oh, it is an accident and there's a helicopter transporting the ones involved in the crash to the nearest hospital. They must be in critical condition for all of this to be happening."
        },
        {
            "cell_type": "markdown",
            "metadata": {},
            "source": "Imagine we were able to find a way of predicting the severity of a car accident. In other words i want to predict the possibiity of you getting into a car accident and predict the possible severity of the accident on top. In order to make such predicitons i would take different attributes like weather or road conditions into account. In the end, given the prediction, you could drive more carefully or if possible even change you travel route.\n\nOur Target audience is the SDOT Traffic Management Division. They could use the data they are already collecting and analyze which are the main drivers for accidents happening in certain areas. On top it is possible to calculate the influence of the main factors that lead to accidents. Knowing the main factors and their influence the objective is to define measurements that improve for example road conditions or light conditions. Lets say our analysis shows that severe accidents happen because of bad light conditions in a certain area the SDOT can take actions to improve these conditions and hopefully lower the future number of accidents.\n\nSo in clonclusion the furhter analysis should help SDOT to identify the main drivers and their influence. And of course the SDOT's main objective should be to lower the number and the severity of accidents. "
        },
        {
            "cell_type": "markdown",
            "metadata": {},
            "source": "# Analytical Approach"
        },
        {
            "cell_type": "markdown",
            "metadata": {},
            "source": "In the first step we will graphically analyse (e.g. using bar charts) the data and visualize how the attributes relate to the number and severity of accidents."
        },
        {
            "cell_type": "markdown",
            "metadata": {},
            "source": "In the second step we will use a decision tree to adress the classification problem in this Use Case. In General Classification  is  a  form  of  data  analysis  where  a  model or classifier is constructed to predict categorical labels (severity of accident). The    objective    of    the    predicting    using    classification    technology is to accurately forecast the target class variable (severity of accident) for  each  new  data  point. In our Use Case the goal of the classifier would be to predict accident severity for a new accident which is missing in the data.  "
        },
        {
            "cell_type": "markdown",
            "metadata": {},
            "source": "# Data Understanding\n\nIn this phase, we need to collect or extract the dataset from various sources such as csv file or SQL database. Then, we need to determine the attributes (columns) that we will use to train our machine learning model. Also, we will assess the condition of chosen attributes by looking for trends, certain patterns, skewed information, correlations, and so on."
        },
        {
            "cell_type": "markdown",
            "metadata": {},
            "source": "To adress the issue described above i will use a DataSet provided by the SDOT Traffic Management Division, Traffic Records Group. This Dataset includes all types of collisions provided by SPA and recorded by Traffic Records from 2004 until present. This data gets weekly updated. In the folling we will be working with the dataset in:\n"
        },
        {
            "cell_type": "code",
            "execution_count": 3,
            "metadata": {},
            "outputs": [
                {
                    "name": "stderr",
                    "output_type": "stream",
                    "text": "/opt/conda/envs/Python36/lib/python3.6/site-packages/IPython/core/interactiveshell.py:3020: DtypeWarning: Columns (33) have mixed types. Specify dtype option on import or set low_memory=False.\n  interactivity=interactivity, compiler=compiler, result=result)\n"
                },
                {
                    "name": "stdout",
                    "output_type": "stream",
                    "text": "Data read into dataframe!\n"
                }
            ],
            "source": "collisions = pd.read_csv(\"https://s3.us.cloud-object-storage.appdomain.cloud/cf-courses-data/CognitiveClass/DP0701EN/version-2/Data-Collisions.csv\")\n#pd.set_option('display.max_columns', None)\nprint(\"Data read into dataframe!\") # takes about 30 seconds"
        },
        {
            "cell_type": "code",
            "execution_count": 4,
            "metadata": {},
            "outputs": [
                {
                    "data": {
                        "text/html": "<div>\n<style scoped>\n    .dataframe tbody tr th:only-of-type {\n        vertical-align: middle;\n    }\n\n    .dataframe tbody tr th {\n        vertical-align: top;\n    }\n\n    .dataframe thead th {\n        text-align: right;\n    }\n</style>\n<table border=\"1\" class=\"dataframe\">\n  <thead>\n    <tr style=\"text-align: right;\">\n      <th></th>\n      <th>SEVERITYCODE</th>\n      <th>X</th>\n      <th>Y</th>\n      <th>OBJECTID</th>\n      <th>INCKEY</th>\n      <th>COLDETKEY</th>\n      <th>REPORTNO</th>\n      <th>STATUS</th>\n      <th>ADDRTYPE</th>\n      <th>INTKEY</th>\n      <th>...</th>\n      <th>ROADCOND</th>\n      <th>LIGHTCOND</th>\n      <th>PEDROWNOTGRNT</th>\n      <th>SDOTCOLNUM</th>\n      <th>SPEEDING</th>\n      <th>ST_COLCODE</th>\n      <th>ST_COLDESC</th>\n      <th>SEGLANEKEY</th>\n      <th>CROSSWALKKEY</th>\n      <th>HITPARKEDCAR</th>\n    </tr>\n  </thead>\n  <tbody>\n    <tr>\n      <th>0</th>\n      <td>2</td>\n      <td>-122.323148</td>\n      <td>47.703140</td>\n      <td>1</td>\n      <td>1307</td>\n      <td>1307</td>\n      <td>3502005</td>\n      <td>Matched</td>\n      <td>Intersection</td>\n      <td>37475.0</td>\n      <td>...</td>\n      <td>Wet</td>\n      <td>Daylight</td>\n      <td>NaN</td>\n      <td>NaN</td>\n      <td>NaN</td>\n      <td>10</td>\n      <td>Entering at angle</td>\n      <td>0</td>\n      <td>0</td>\n      <td>N</td>\n    </tr>\n    <tr>\n      <th>1</th>\n      <td>1</td>\n      <td>-122.347294</td>\n      <td>47.647172</td>\n      <td>2</td>\n      <td>52200</td>\n      <td>52200</td>\n      <td>2607959</td>\n      <td>Matched</td>\n      <td>Block</td>\n      <td>NaN</td>\n      <td>...</td>\n      <td>Wet</td>\n      <td>Dark - Street Lights On</td>\n      <td>NaN</td>\n      <td>6354039.0</td>\n      <td>NaN</td>\n      <td>11</td>\n      <td>From same direction - both going straight - bo...</td>\n      <td>0</td>\n      <td>0</td>\n      <td>N</td>\n    </tr>\n    <tr>\n      <th>2</th>\n      <td>1</td>\n      <td>-122.334540</td>\n      <td>47.607871</td>\n      <td>3</td>\n      <td>26700</td>\n      <td>26700</td>\n      <td>1482393</td>\n      <td>Matched</td>\n      <td>Block</td>\n      <td>NaN</td>\n      <td>...</td>\n      <td>Dry</td>\n      <td>Daylight</td>\n      <td>NaN</td>\n      <td>4323031.0</td>\n      <td>NaN</td>\n      <td>32</td>\n      <td>One parked--one moving</td>\n      <td>0</td>\n      <td>0</td>\n      <td>N</td>\n    </tr>\n    <tr>\n      <th>3</th>\n      <td>1</td>\n      <td>-122.334803</td>\n      <td>47.604803</td>\n      <td>4</td>\n      <td>1144</td>\n      <td>1144</td>\n      <td>3503937</td>\n      <td>Matched</td>\n      <td>Block</td>\n      <td>NaN</td>\n      <td>...</td>\n      <td>Dry</td>\n      <td>Daylight</td>\n      <td>NaN</td>\n      <td>NaN</td>\n      <td>NaN</td>\n      <td>23</td>\n      <td>From same direction - all others</td>\n      <td>0</td>\n      <td>0</td>\n      <td>N</td>\n    </tr>\n    <tr>\n      <th>4</th>\n      <td>2</td>\n      <td>-122.306426</td>\n      <td>47.545739</td>\n      <td>5</td>\n      <td>17700</td>\n      <td>17700</td>\n      <td>1807429</td>\n      <td>Matched</td>\n      <td>Intersection</td>\n      <td>34387.0</td>\n      <td>...</td>\n      <td>Wet</td>\n      <td>Daylight</td>\n      <td>NaN</td>\n      <td>4028032.0</td>\n      <td>NaN</td>\n      <td>10</td>\n      <td>Entering at angle</td>\n      <td>0</td>\n      <td>0</td>\n      <td>N</td>\n    </tr>\n  </tbody>\n</table>\n<p>5 rows \u00d7 38 columns</p>\n</div>",
                        "text/plain": "   SEVERITYCODE           X          Y  OBJECTID  INCKEY  COLDETKEY REPORTNO  \\\n0             2 -122.323148  47.703140         1    1307       1307  3502005   \n1             1 -122.347294  47.647172         2   52200      52200  2607959   \n2             1 -122.334540  47.607871         3   26700      26700  1482393   \n3             1 -122.334803  47.604803         4    1144       1144  3503937   \n4             2 -122.306426  47.545739         5   17700      17700  1807429   \n\n    STATUS      ADDRTYPE   INTKEY  ... ROADCOND                LIGHTCOND  \\\n0  Matched  Intersection  37475.0  ...      Wet                 Daylight   \n1  Matched         Block      NaN  ...      Wet  Dark - Street Lights On   \n2  Matched         Block      NaN  ...      Dry                 Daylight   \n3  Matched         Block      NaN  ...      Dry                 Daylight   \n4  Matched  Intersection  34387.0  ...      Wet                 Daylight   \n\n  PEDROWNOTGRNT  SDOTCOLNUM SPEEDING ST_COLCODE  \\\n0           NaN         NaN      NaN         10   \n1           NaN   6354039.0      NaN         11   \n2           NaN   4323031.0      NaN         32   \n3           NaN         NaN      NaN         23   \n4           NaN   4028032.0      NaN         10   \n\n                                          ST_COLDESC  SEGLANEKEY  \\\n0                                  Entering at angle           0   \n1  From same direction - both going straight - bo...           0   \n2                             One parked--one moving           0   \n3                   From same direction - all others           0   \n4                                  Entering at angle           0   \n\n   CROSSWALKKEY  HITPARKEDCAR  \n0             0             N  \n1             0             N  \n2             0             N  \n3             0             N  \n4             0             N  \n\n[5 rows x 38 columns]"
                    },
                    "execution_count": 4,
                    "metadata": {},
                    "output_type": "execute_result"
                }
            ],
            "source": "collisions.head()"
        },
        {
            "cell_type": "code",
            "execution_count": 5,
            "metadata": {},
            "outputs": [
                {
                    "data": {
                        "text/plain": "(194673, 38)"
                    },
                    "execution_count": 5,
                    "metadata": {},
                    "output_type": "execute_result"
                }
            ],
            "source": "collisions.shape"
        },
        {
            "cell_type": "code",
            "execution_count": 6,
            "metadata": {},
            "outputs": [
                {
                    "name": "stdout",
                    "output_type": "stream",
                    "text": "<class 'pandas.core.frame.DataFrame'>\nRangeIndex: 194673 entries, 0 to 194672\nData columns (total 38 columns):\nSEVERITYCODE      194673 non-null int64\nX                 189339 non-null float64\nY                 189339 non-null float64\nOBJECTID          194673 non-null int64\nINCKEY            194673 non-null int64\nCOLDETKEY         194673 non-null int64\nREPORTNO          194673 non-null object\nSTATUS            194673 non-null object\nADDRTYPE          192747 non-null object\nINTKEY            65070 non-null float64\nLOCATION          191996 non-null object\nEXCEPTRSNCODE     84811 non-null object\nEXCEPTRSNDESC     5638 non-null object\nSEVERITYCODE.1    194673 non-null int64\nSEVERITYDESC      194673 non-null object\nCOLLISIONTYPE     189769 non-null object\nPERSONCOUNT       194673 non-null int64\nPEDCOUNT          194673 non-null int64\nPEDCYLCOUNT       194673 non-null int64\nVEHCOUNT          194673 non-null int64\nINCDATE           194673 non-null object\nINCDTTM           194673 non-null object\nJUNCTIONTYPE      188344 non-null object\nSDOT_COLCODE      194673 non-null int64\nSDOT_COLDESC      194673 non-null object\nINATTENTIONIND    29805 non-null object\nUNDERINFL         189789 non-null object\nWEATHER           189592 non-null object\nROADCOND          189661 non-null object\nLIGHTCOND         189503 non-null object\nPEDROWNOTGRNT     4667 non-null object\nSDOTCOLNUM        114936 non-null float64\nSPEEDING          9333 non-null object\nST_COLCODE        194655 non-null object\nST_COLDESC        189769 non-null object\nSEGLANEKEY        194673 non-null int64\nCROSSWALKKEY      194673 non-null int64\nHITPARKEDCAR      194673 non-null object\ndtypes: float64(4), int64(12), object(22)\nmemory usage: 56.4+ MB\n"
                }
            ],
            "source": "collisions.info()"
        },
        {
            "cell_type": "markdown",
            "metadata": {},
            "source": "Our imported dataset consist of the labeled data column 'severity code' and 37 attributes that might be useful for the later prediction. Later on i will decide what to keep and what to drop. In total we have 194673 rows which seems to be a good amount of data. By taking a closer look above we can see that some attributes have missing values, especially SPEEDING with only 9333 values of type object. Eventhought this could be an important factor we will drop this attribute from our dataset later on because in total it is missing over 1800,000 values.\n\nEach row represents a accident/collisions reported, and for each accident/collision, the corresponding severity code is documented. The other attributes contain information on i.e. weather/road/light conditions, the location, speeding etc.\n\nLet's take a look a specifiy row (objext id 3). From the Data we can see that an accident took place during daylight (see attribute - LIGHTCOND) and the road was dry (see - attribute ROADCOND). The Severitycode (see attribute SEVERITYCODE) for this accident was labeled 1\u2014prop damage , which in this case means : Proporty Damage Only Collision (see attribute SEVERITYDESC)."
        },
        {
            "cell_type": "markdown",
            "metadata": {},
            "source": "Concering the datatypes we can see that our dataset has numerical (float64 or int64 types) or categorical (object type) data types. In Addition some attributes have missing data (NaN) as well."
        },
        {
            "cell_type": "code",
            "execution_count": 7,
            "metadata": {},
            "outputs": [
                {
                    "data": {
                        "text/plain": "1    136485\n2     58188\nName: SEVERITYCODE, dtype: int64"
                    },
                    "execution_count": 7,
                    "metadata": {},
                    "output_type": "execute_result"
                }
            ],
            "source": "collisions['SEVERITYCODE'].value_counts()"
        },
        {
            "cell_type": "code",
            "execution_count": 8,
            "metadata": {},
            "outputs": [
                {
                    "data": {
                        "text/html": "<div>\n<style scoped>\n    .dataframe tbody tr th:only-of-type {\n        vertical-align: middle;\n    }\n\n    .dataframe tbody tr th {\n        vertical-align: top;\n    }\n\n    .dataframe thead th {\n        text-align: right;\n    }\n</style>\n<table border=\"1\" class=\"dataframe\">\n  <thead>\n    <tr style=\"text-align: right;\">\n      <th></th>\n      <th>SEVERITYDESC</th>\n    </tr>\n  </thead>\n  <tbody>\n    <tr>\n      <th>Property Damage Only Collision</th>\n      <td>136485</td>\n    </tr>\n    <tr>\n      <th>Injury Collision</th>\n      <td>58188</td>\n    </tr>\n  </tbody>\n</table>\n</div>",
                        "text/plain": "                                SEVERITYDESC\nProperty Damage Only Collision        136485\nInjury Collision                       58188"
                    },
                    "execution_count": 8,
                    "metadata": {},
                    "output_type": "execute_result"
                }
            ],
            "source": "collisions['SEVERITYDESC'].value_counts().to_frame()"
        },
        {
            "cell_type": "code",
            "execution_count": 9,
            "metadata": {},
            "outputs": [
                {
                    "data": {
                        "text/plain": "<matplotlib.axes._subplots.AxesSubplot at 0x7f795e292240>"
                    },
                    "execution_count": 9,
                    "metadata": {},
                    "output_type": "execute_result"
                },
                {
                    "data": {
                        "image/png": "[encoded data removed]",
                        "text/plain": "<Figure size 432x288 with 1 Axes>"
                    },
                    "metadata": {
                        "needs_background": "light"
                    },
                    "output_type": "display_data"
                }
            ],
            "source": "collisions['SEVERITYDESC'].value_counts().plot(kind='barh')"
        },
        {
            "cell_type": "markdown",
            "metadata": {},
            "source": "As we can see our labeled data (SEVERITYCODE) is slightly unbalanced. We have the double amount of data with a severity code 1 (136485) im comparison to severity code 2 (58188). This might cause problems for the Modeling and the prediciton later on. I will adress this issue in the data preparation section."
        },
        {
            "cell_type": "markdown",
            "metadata": {},
            "source": "# Data Preparation\n\nThe data preparation includes all the required activities to construct the final dataset which will be fed into the modeling tools. Data preparation can be performed multiple times and it includes balancing the labeled data, transformation, filling missing data, and cleaning the dataset."
        },
        {
            "cell_type": "markdown",
            "metadata": {},
            "source": "To accurately build a model to prevent future accidents and/or reduce their severity, we will use the following attributes \u2014 ADDRTYPE, WEATHER, ROADCOND, VEHCOUNT, PERSONCOUNT, LIGHTCOND"
        },
        {
            "cell_type": "code",
            "execution_count": 10,
            "metadata": {},
            "outputs": [],
            "source": "collisions_red = collisions[['SEVERITYCODE','ADDRTYPE','WEATHER','ROADCOND','LIGHTCOND','VEHCOUNT','PERSONCOUNT']]"
        },
        {
            "cell_type": "code",
            "execution_count": 11,
            "metadata": {},
            "outputs": [
                {
                    "data": {
                        "text/html": "<div>\n<style scoped>\n    .dataframe tbody tr th:only-of-type {\n        vertical-align: middle;\n    }\n\n    .dataframe tbody tr th {\n        vertical-align: top;\n    }\n\n    .dataframe thead th {\n        text-align: right;\n    }\n</style>\n<table border=\"1\" class=\"dataframe\">\n  <thead>\n    <tr style=\"text-align: right;\">\n      <th></th>\n      <th>ROADCOND</th>\n    </tr>\n  </thead>\n  <tbody>\n    <tr>\n      <th>Dry</th>\n      <td>124510</td>\n    </tr>\n    <tr>\n      <th>Wet</th>\n      <td>47474</td>\n    </tr>\n    <tr>\n      <th>Unknown</th>\n      <td>15078</td>\n    </tr>\n    <tr>\n      <th>Ice</th>\n      <td>1209</td>\n    </tr>\n    <tr>\n      <th>Snow/Slush</th>\n      <td>1004</td>\n    </tr>\n    <tr>\n      <th>Other</th>\n      <td>132</td>\n    </tr>\n    <tr>\n      <th>Standing Water</th>\n      <td>115</td>\n    </tr>\n    <tr>\n      <th>Sand/Mud/Dirt</th>\n      <td>75</td>\n    </tr>\n    <tr>\n      <th>Oil</th>\n      <td>64</td>\n    </tr>\n  </tbody>\n</table>\n</div>",
                        "text/plain": "                ROADCOND\nDry               124510\nWet                47474\nUnknown            15078\nIce                 1209\nSnow/Slush          1004\nOther                132\nStanding Water       115\nSand/Mud/Dirt         75\nOil                   64"
                    },
                    "execution_count": 11,
                    "metadata": {},
                    "output_type": "execute_result"
                }
            ],
            "source": "collisions_red['ROADCOND'].value_counts().to_frame()"
        },
        {
            "cell_type": "code",
            "execution_count": 12,
            "metadata": {},
            "outputs": [
                {
                    "data": {
                        "text/html": "<div>\n<style scoped>\n    .dataframe tbody tr th:only-of-type {\n        vertical-align: middle;\n    }\n\n    .dataframe tbody tr th {\n        vertical-align: top;\n    }\n\n    .dataframe thead th {\n        text-align: right;\n    }\n</style>\n<table border=\"1\" class=\"dataframe\">\n  <thead>\n    <tr style=\"text-align: right;\">\n      <th></th>\n      <th>WEATHER</th>\n    </tr>\n  </thead>\n  <tbody>\n    <tr>\n      <th>Clear</th>\n      <td>111135</td>\n    </tr>\n    <tr>\n      <th>Raining</th>\n      <td>33145</td>\n    </tr>\n    <tr>\n      <th>Overcast</th>\n      <td>27714</td>\n    </tr>\n    <tr>\n      <th>Unknown</th>\n      <td>15091</td>\n    </tr>\n    <tr>\n      <th>Snowing</th>\n      <td>907</td>\n    </tr>\n    <tr>\n      <th>Other</th>\n      <td>832</td>\n    </tr>\n    <tr>\n      <th>Fog/Smog/Smoke</th>\n      <td>569</td>\n    </tr>\n    <tr>\n      <th>Sleet/Hail/Freezing Rain</th>\n      <td>113</td>\n    </tr>\n    <tr>\n      <th>Blowing Sand/Dirt</th>\n      <td>56</td>\n    </tr>\n    <tr>\n      <th>Severe Crosswind</th>\n      <td>25</td>\n    </tr>\n    <tr>\n      <th>Partly Cloudy</th>\n      <td>5</td>\n    </tr>\n  </tbody>\n</table>\n</div>",
                        "text/plain": "                          WEATHER\nClear                      111135\nRaining                     33145\nOvercast                    27714\nUnknown                     15091\nSnowing                       907\nOther                         832\nFog/Smog/Smoke                569\nSleet/Hail/Freezing Rain      113\nBlowing Sand/Dirt              56\nSevere Crosswind               25\nPartly Cloudy                   5"
                    },
                    "execution_count": 12,
                    "metadata": {},
                    "output_type": "execute_result"
                }
            ],
            "source": "collisions_red['WEATHER'].value_counts().to_frame()"
        },
        {
            "cell_type": "markdown",
            "metadata": {},
            "source": "As shown above, we found out that ROADCOND and WEATHER have unknown values. This will again hamper the analysis therefore I dropped the values where there is no information"
        },
        {
            "cell_type": "code",
            "execution_count": 13,
            "metadata": {},
            "outputs": [],
            "source": "collisions_red = collisions_red.dropna()"
        },
        {
            "cell_type": "code",
            "execution_count": 14,
            "metadata": {},
            "outputs": [
                {
                    "name": "stdout",
                    "output_type": "stream",
                    "text": "<class 'pandas.core.frame.DataFrame'>\nInt64Index: 187525 entries, 0 to 194672\nData columns (total 7 columns):\nSEVERITYCODE    187525 non-null int64\nADDRTYPE        187525 non-null object\nWEATHER         187525 non-null object\nROADCOND        187525 non-null object\nLIGHTCOND       187525 non-null object\nVEHCOUNT        187525 non-null int64\nPERSONCOUNT     187525 non-null int64\ndtypes: int64(3), object(4)\nmemory usage: 11.4+ MB\n"
                }
            ],
            "source": "collisions_red.info()"
        },
        {
            "cell_type": "markdown",
            "metadata": {},
            "source": "I dropped Speeding entirely because it is missing over 180,000 values and this can hamper the results."
        },
        {
            "cell_type": "code",
            "execution_count": 15,
            "metadata": {},
            "outputs": [
                {
                    "data": {
                        "text/html": "<div>\n<style scoped>\n    .dataframe tbody tr th:only-of-type {\n        vertical-align: middle;\n    }\n\n    .dataframe tbody tr th {\n        vertical-align: top;\n    }\n\n    .dataframe thead th {\n        text-align: right;\n    }\n</style>\n<table border=\"1\" class=\"dataframe\">\n  <thead>\n    <tr style=\"text-align: right;\">\n      <th></th>\n      <th>ADDRTYPE</th>\n    </tr>\n  </thead>\n  <tbody>\n    <tr>\n      <th>Block</th>\n      <td>123321</td>\n    </tr>\n    <tr>\n      <th>Intersection</th>\n      <td>63462</td>\n    </tr>\n    <tr>\n      <th>Alley</th>\n      <td>742</td>\n    </tr>\n  </tbody>\n</table>\n</div>",
                        "text/plain": "              ADDRTYPE\nBlock           123321\nIntersection     63462\nAlley              742"
                    },
                    "execution_count": 15,
                    "metadata": {},
                    "output_type": "execute_result"
                }
            ],
            "source": "collisions_red['ADDRTYPE'].value_counts().to_frame()"
        },
        {
            "cell_type": "code",
            "execution_count": 16,
            "metadata": {},
            "outputs": [],
            "source": "collisions_red = collisions_red[collisions_red['ROADCOND'] != 'Unknown']\ncollisions_red = collisions_red[collisions_red['WEATHER'] != 'Unknown']"
        },
        {
            "cell_type": "code",
            "execution_count": 17,
            "metadata": {},
            "outputs": [
                {
                    "name": "stdout",
                    "output_type": "stream",
                    "text": "<class 'pandas.core.frame.DataFrame'>\nInt64Index: 172081 entries, 0 to 194672\nData columns (total 7 columns):\nSEVERITYCODE    172081 non-null int64\nADDRTYPE        172081 non-null object\nWEATHER         172081 non-null object\nROADCOND        172081 non-null object\nLIGHTCOND       172081 non-null object\nVEHCOUNT        172081 non-null int64\nPERSONCOUNT     172081 non-null int64\ndtypes: int64(3), object(4)\nmemory usage: 10.5+ MB\n"
                }
            ],
            "source": "collisions_red.info()"
        },
        {
            "cell_type": "code",
            "execution_count": 18,
            "metadata": {},
            "outputs": [
                {
                    "data": {
                        "text/plain": "1    136485\n2     58188\nName: SEVERITYCODE, dtype: int64"
                    },
                    "execution_count": 18,
                    "metadata": {},
                    "output_type": "execute_result"
                }
            ],
            "source": "collisions['SEVERITYCODE'].value_counts()"
        },
        {
            "cell_type": "markdown",
            "metadata": {},
            "source": "# Exploratory Data Analysis"
        },
        {
            "cell_type": "code",
            "execution_count": 19,
            "metadata": {},
            "outputs": [
                {
                    "data": {
                        "text/plain": "Text(0.5, 1.0, 'No of Vehicles in Accidents')"
                    },
                    "execution_count": 19,
                    "metadata": {},
                    "output_type": "execute_result"
                },
                {
                    "data": {
                        "image/png": "[encoded data removed]",
                        "text/plain": "<Figure size 432x288 with 1 Axes>"
                    },
                    "metadata": {
                        "needs_background": "light"
                    },
                    "output_type": "display_data"
                }
            ],
            "source": "bins = np.arange(collisions_red.VEHCOUNT.min(),8,1)\nplt.hist(collisions.VEHCOUNT,bins=bins)\nplt.xlabel('No of Vehicles')\nplt.ylabel('No of Accidents')\nplt.title('No of Vehicles in Accidents')"
        },
        {
            "cell_type": "markdown",
            "metadata": {},
            "source": "I we take a closer look on the No of vehicles involved in accidents the graph shows that most accidents happened with 2-3 vehicles involved"
        },
        {
            "cell_type": "code",
            "execution_count": 20,
            "metadata": {},
            "outputs": [
                {
                    "data": {
                        "text/plain": "Text(0.5, 1.0, 'No of people in Accidents')"
                    },
                    "execution_count": 20,
                    "metadata": {},
                    "output_type": "execute_result"
                },
                {
                    "data": {
                        "image/png": "[encoded data removed]",
                        "text/plain": "<Figure size 432x288 with 1 Axes>"
                    },
                    "metadata": {
                        "needs_background": "light"
                    },
                    "output_type": "display_data"
                }
            ],
            "source": "bins = np.arange(collisions_red.PERSONCOUNT.min(),17,2)\nplt.hist(collisions.PERSONCOUNT,bins=bins)\nplt.xlabel('No of People')\nplt.ylabel('No of Accidents')\nplt.title('No of people in Accidents')"
        },
        {
            "cell_type": "code",
            "execution_count": 21,
            "metadata": {},
            "outputs": [
                {
                    "data": {
                        "text/html": "<div>\n<style scoped>\n    .dataframe tbody tr th:only-of-type {\n        vertical-align: middle;\n    }\n\n    .dataframe tbody tr th {\n        vertical-align: top;\n    }\n\n    .dataframe thead th {\n        text-align: right;\n    }\n</style>\n<table border=\"1\" class=\"dataframe\">\n  <thead>\n    <tr style=\"text-align: right;\">\n      <th></th>\n      <th>PERSONCOUNT</th>\n    </tr>\n  </thead>\n  <tbody>\n    <tr>\n      <th>2</th>\n      <td>95850</td>\n    </tr>\n    <tr>\n      <th>3</th>\n      <td>34162</td>\n    </tr>\n    <tr>\n      <th>4</th>\n      <td>14199</td>\n    </tr>\n    <tr>\n      <th>1</th>\n      <td>11169</td>\n    </tr>\n    <tr>\n      <th>5</th>\n      <td>6489</td>\n    </tr>\n    <tr>\n      <th>0</th>\n      <td>5319</td>\n    </tr>\n    <tr>\n      <th>6</th>\n      <td>2672</td>\n    </tr>\n    <tr>\n      <th>7</th>\n      <td>1117</td>\n    </tr>\n    <tr>\n      <th>8</th>\n      <td>528</td>\n    </tr>\n    <tr>\n      <th>9</th>\n      <td>213</td>\n    </tr>\n    <tr>\n      <th>10</th>\n      <td>127</td>\n    </tr>\n    <tr>\n      <th>11</th>\n      <td>55</td>\n    </tr>\n    <tr>\n      <th>12</th>\n      <td>33</td>\n    </tr>\n    <tr>\n      <th>13</th>\n      <td>21</td>\n    </tr>\n    <tr>\n      <th>14</th>\n      <td>19</td>\n    </tr>\n    <tr>\n      <th>15</th>\n      <td>11</td>\n    </tr>\n    <tr>\n      <th>17</th>\n      <td>11</td>\n    </tr>\n    <tr>\n      <th>16</th>\n      <td>8</td>\n    </tr>\n    <tr>\n      <th>44</th>\n      <td>6</td>\n    </tr>\n    <tr>\n      <th>18</th>\n      <td>6</td>\n    </tr>\n    <tr>\n      <th>20</th>\n      <td>6</td>\n    </tr>\n    <tr>\n      <th>25</th>\n      <td>6</td>\n    </tr>\n    <tr>\n      <th>19</th>\n      <td>5</td>\n    </tr>\n    <tr>\n      <th>26</th>\n      <td>4</td>\n    </tr>\n    <tr>\n      <th>22</th>\n      <td>4</td>\n    </tr>\n    <tr>\n      <th>27</th>\n      <td>3</td>\n    </tr>\n    <tr>\n      <th>28</th>\n      <td>3</td>\n    </tr>\n    <tr>\n      <th>29</th>\n      <td>3</td>\n    </tr>\n    <tr>\n      <th>47</th>\n      <td>3</td>\n    </tr>\n    <tr>\n      <th>32</th>\n      <td>3</td>\n    </tr>\n    <tr>\n      <th>34</th>\n      <td>3</td>\n    </tr>\n    <tr>\n      <th>37</th>\n      <td>3</td>\n    </tr>\n    <tr>\n      <th>23</th>\n      <td>2</td>\n    </tr>\n    <tr>\n      <th>21</th>\n      <td>2</td>\n    </tr>\n    <tr>\n      <th>24</th>\n      <td>2</td>\n    </tr>\n    <tr>\n      <th>30</th>\n      <td>2</td>\n    </tr>\n    <tr>\n      <th>36</th>\n      <td>2</td>\n    </tr>\n    <tr>\n      <th>57</th>\n      <td>1</td>\n    </tr>\n    <tr>\n      <th>31</th>\n      <td>1</td>\n    </tr>\n    <tr>\n      <th>35</th>\n      <td>1</td>\n    </tr>\n    <tr>\n      <th>39</th>\n      <td>1</td>\n    </tr>\n    <tr>\n      <th>41</th>\n      <td>1</td>\n    </tr>\n    <tr>\n      <th>43</th>\n      <td>1</td>\n    </tr>\n    <tr>\n      <th>48</th>\n      <td>1</td>\n    </tr>\n    <tr>\n      <th>53</th>\n      <td>1</td>\n    </tr>\n    <tr>\n      <th>54</th>\n      <td>1</td>\n    </tr>\n    <tr>\n      <th>81</th>\n      <td>1</td>\n    </tr>\n  </tbody>\n</table>\n</div>",
                        "text/plain": "    PERSONCOUNT\n2         95850\n3         34162\n4         14199\n1         11169\n5          6489\n0          5319\n6          2672\n7          1117\n8           528\n9           213\n10          127\n11           55\n12           33\n13           21\n14           19\n15           11\n17           11\n16            8\n44            6\n18            6\n20            6\n25            6\n19            5\n26            4\n22            4\n27            3\n28            3\n29            3\n47            3\n32            3\n34            3\n37            3\n23            2\n21            2\n24            2\n30            2\n36            2\n57            1\n31            1\n35            1\n39            1\n41            1\n43            1\n48            1\n53            1\n54            1\n81            1"
                    },
                    "execution_count": 21,
                    "metadata": {},
                    "output_type": "execute_result"
                }
            ],
            "source": "collisions_red['PERSONCOUNT'].value_counts().to_frame()"
        },
        {
            "cell_type": "markdown",
            "metadata": {},
            "source": "Most Accidents included two people (95850). OK Solo drivers might cause more accidents."
        },
        {
            "cell_type": "code",
            "execution_count": 35,
            "metadata": {},
            "outputs": [],
            "source": "collisions_red_g = collisions_red.groupby(['ADDRTYPE']).SEVERITYCODE.value_counts()"
        },
        {
            "cell_type": "code",
            "execution_count": 37,
            "metadata": {},
            "outputs": [],
            "source": "g1 = collisions_red_g.unstack()"
        },
        {
            "cell_type": "code",
            "execution_count": 34,
            "metadata": {},
            "outputs": [
                {
                    "data": {
                        "image/png": "[encoded data removed]",
                        "text/plain": "<Figure size 504x360 with 1 Axes>"
                    },
                    "metadata": {
                        "needs_background": "light"
                    },
                    "output_type": "display_data"
                }
            ],
            "source": "g1.plot(kind='bar', figsize=(7, 5))\nplt.ylabel('count')\nplt.show()"
        },
        {
            "cell_type": "markdown",
            "metadata": {},
            "source": "It is also important to find out where most accidents take place. Upon analyzing the data, it turned out that blocks are the most common accident zones."
        },
        {
            "cell_type": "markdown",
            "metadata": {},
            "source": ""
        },
        {
            "cell_type": "code",
            "execution_count": 60,
            "metadata": {},
            "outputs": [
                {
                    "data": {
                        "image/png": "[encoded data removed]",
                        "text/plain": "<Figure size 504x360 with 1 Axes>"
                    },
                    "metadata": {
                        "needs_background": "light"
                    },
                    "output_type": "display_data"
                }
            ],
            "source": "collisions_red_g = collisions_red.groupby(['WEATHER']).SEVERITYCODE.value_counts()\ng2 = collisions_red_g.unstack()\ng2.plot(kind='bar', figsize=(7, 5))\nplt.ylabel('count')\nplt.show()"
        },
        {
            "cell_type": "markdown",
            "metadata": {},
            "source": "Here it is interesting to see that clear conditions caused more accidents than rainy or snowy conditions"
        },
        {
            "cell_type": "code",
            "execution_count": 61,
            "metadata": {},
            "outputs": [
                {
                    "data": {
                        "image/png": "[encoded data removed]",
                        "text/plain": "<Figure size 504x360 with 1 Axes>"
                    },
                    "metadata": {
                        "needs_background": "light"
                    },
                    "output_type": "display_data"
                }
            ],
            "source": "collisions_red_g = collisions_red.groupby(['ROADCOND']).SEVERITYCODE.value_counts()\ng2 = collisions_red_g.unstack()\ng2.plot(kind='bar', figsize=(7, 5))\nplt.ylabel('count')\nplt.show()"
        },
        {
            "cell_type": "markdown",
            "metadata": {},
            "source": "Ok here the resulst are very interesting. Most accidents happen on dry roads."
        },
        {
            "cell_type": "code",
            "execution_count": 63,
            "metadata": {},
            "outputs": [
                {
                    "data": {
                        "image/png": "[encoded data removed]",
                        "text/plain": "<Figure size 504x360 with 1 Axes>"
                    },
                    "metadata": {
                        "needs_background": "light"
                    },
                    "output_type": "display_data"
                }
            ],
            "source": "collisions_red_g = collisions_red.groupby(['LIGHTCOND']).SEVERITYCODE.value_counts()\ng2 = collisions_red_g.unstack()\ng2.plot(kind='bar', figsize=(7, 5))\nplt.ylabel('count')\nplt.show()"
        },
        {
            "cell_type": "markdown",
            "metadata": {},
            "source": "Lust but no least, let's take a look at the light conditions. Again to our surprise most of the accidents in our data set happened during daylight."
        },
        {
            "cell_type": "markdown",
            "metadata": {},
            "source": "So all in all these histogramms and bar charts gave us insight into our data and helped us to get a better understanding. We also prepared our Data for the next stept, which is finding a model that might predict the severity of an accident"
        },
        {
            "cell_type": "markdown",
            "metadata": {},
            "source": "# Modeling\n\nIn this phase, various algorithms and methods can be selected and applied to build the model including supervised machine learning techniques. You can select SVM, XGBoost, decision tree, or any other techniques. You can select a single or multiple machine learning models for the same data mining problem. At this phase, stepping back to the data preparation phase is often required.\n\n\nMachine Learning Models Selected\n\n    Logistic regression is a statistical model that in its basic form uses a logistic function to model a binary dependent variable\n    Decision Tree Analysis: The Decision Tree Analysis breaks down a data set into smaller subsets while at the same time an associated decision tree is incrementally developed. The final result is a tree with decision nodes and leaf nodes.\n    \n    "
        },
        {
            "cell_type": "markdown",
            "metadata": {},
            "source": "First we want to use a decision tree classifier. It is a sample of binary classifier, and you can use the training part of the dataset \n    to build a decision tree, and then use it to predict the severity of a new accidents where no data is yet avaiable"
        },
        {
            "cell_type": "markdown",
            "metadata": {},
            "source": "<div href=\"pre-processing\">\n    <h2>Pre-processing</h2>\n</div>"
        },
        {
            "cell_type": "code",
            "execution_count": 25,
            "metadata": {},
            "outputs": [
                {
                    "data": {
                        "text/html": "<div>\n<style scoped>\n    .dataframe tbody tr th:only-of-type {\n        vertical-align: middle;\n    }\n\n    .dataframe tbody tr th {\n        vertical-align: top;\n    }\n\n    .dataframe thead th {\n        text-align: right;\n    }\n</style>\n<table border=\"1\" class=\"dataframe\">\n  <thead>\n    <tr style=\"text-align: right;\">\n      <th></th>\n      <th>SEVERITYCODE</th>\n      <th>ADDRTYPE</th>\n      <th>WEATHER</th>\n      <th>ROADCOND</th>\n      <th>LIGHTCOND</th>\n      <th>VEHCOUNT</th>\n      <th>PERSONCOUNT</th>\n    </tr>\n  </thead>\n  <tbody>\n    <tr>\n      <th>0</th>\n      <td>2</td>\n      <td>Intersection</td>\n      <td>Overcast</td>\n      <td>Wet</td>\n      <td>Daylight</td>\n      <td>2</td>\n      <td>2</td>\n    </tr>\n    <tr>\n      <th>1</th>\n      <td>1</td>\n      <td>Block</td>\n      <td>Raining</td>\n      <td>Wet</td>\n      <td>Dark - Street Lights On</td>\n      <td>2</td>\n      <td>2</td>\n    </tr>\n    <tr>\n      <th>2</th>\n      <td>1</td>\n      <td>Block</td>\n      <td>Overcast</td>\n      <td>Dry</td>\n      <td>Daylight</td>\n      <td>3</td>\n      <td>4</td>\n    </tr>\n    <tr>\n      <th>3</th>\n      <td>1</td>\n      <td>Block</td>\n      <td>Clear</td>\n      <td>Dry</td>\n      <td>Daylight</td>\n      <td>3</td>\n      <td>3</td>\n    </tr>\n    <tr>\n      <th>4</th>\n      <td>2</td>\n      <td>Intersection</td>\n      <td>Raining</td>\n      <td>Wet</td>\n      <td>Daylight</td>\n      <td>2</td>\n      <td>2</td>\n    </tr>\n  </tbody>\n</table>\n</div>",
                        "text/plain": "   SEVERITYCODE      ADDRTYPE   WEATHER ROADCOND                LIGHTCOND  \\\n0             2  Intersection  Overcast      Wet                 Daylight   \n1             1         Block   Raining      Wet  Dark - Street Lights On   \n2             1         Block  Overcast      Dry                 Daylight   \n3             1         Block     Clear      Dry                 Daylight   \n4             2  Intersection   Raining      Wet                 Daylight   \n\n   VEHCOUNT  PERSONCOUNT  \n0         2            2  \n1         2            2  \n2         3            4  \n3         3            3  \n4         2            2  "
                    },
                    "execution_count": 25,
                    "metadata": {},
                    "output_type": "execute_result"
                }
            ],
            "source": "collisions_red.head()"
        },
        {
            "cell_type": "code",
            "execution_count": 26,
            "metadata": {},
            "outputs": [
                {
                    "data": {
                        "text/plain": "SEVERITYCODE     int64\nADDRTYPE        object\nWEATHER         object\nROADCOND        object\nLIGHTCOND       object\nVEHCOUNT         int64\nPERSONCOUNT      int64\ndtype: object"
                    },
                    "execution_count": 26,
                    "metadata": {},
                    "output_type": "execute_result"
                }
            ],
            "source": "collisions_red.dtypes"
        },
        {
            "cell_type": "markdown",
            "metadata": {},
            "source": "First we need to declare the following variables: <br>\n\n<ul>\n    <li> <b> X </b> as the <b> Feature Matrix </b> (data of collisions_red) </li>\n    <li> <b> y </b> as the <b> response vector (target) </b> </li>\n</ul>\n"
        },
        {
            "cell_type": "code",
            "execution_count": 27,
            "metadata": {},
            "outputs": [
                {
                    "data": {
                        "text/plain": "array([['Intersection', 'Overcast', 'Wet', 'Daylight', 2, 2],\n       ['Block', 'Raining', 'Wet', 'Dark - Street Lights On', 2, 2],\n       ['Block', 'Overcast', 'Dry', 'Daylight', 3, 4],\n       ['Block', 'Clear', 'Dry', 'Daylight', 3, 3],\n       ['Intersection', 'Raining', 'Wet', 'Daylight', 2, 2],\n       ['Intersection', 'Clear', 'Dry', 'Daylight', 2, 2]], dtype=object)"
                    },
                    "execution_count": 27,
                    "metadata": {},
                    "output_type": "execute_result"
                }
            ],
            "source": "X = collisions_red[['ADDRTYPE', 'WEATHER', 'ROADCOND', 'LIGHTCOND', 'VEHCOUNT','PERSONCOUNT']].values\nX[0:6]"
        },
        {
            "cell_type": "markdown",
            "metadata": {},
            "source": "As you may figure out, some features in this dataset are categorical such as **ADDRTYPE** or **WEATHER**. Unfortunately, Sklearn Decision Trees do not handle categorical variables. But still we can convert these features to numerical values. **pandas.get_dummies()**\nConvert categorical variable into dummy/indicator variables."
        },
        {
            "cell_type": "code",
            "execution_count": 28,
            "metadata": {},
            "outputs": [],
            "source": "from sklearn import preprocessing\nle_addrtype = preprocessing.LabelEncoder()\nle_addrtype.fit(['Intersection','Block','Alley'])\nX[:,0] = le_addrtype.transform(X[:,0])\n\nle_weather = preprocessing.LabelEncoder()\nle_weather.fit(['Blowing Sand/Dirt','Clear','Fog/Smog/Smoke','Other','Overcast','Partly Cloudy','Raining','Severe Crosswind','Sleet/Hail/Freezing Rain','Snowing'])\nX[:,1] = le_weather.transform(X[:,1])\n\nle_road = preprocessing.LabelEncoder()\nle_road.fit(['Dry','Ice','Oil','Other','Sand/Mud/Dirt','Snow/Slush','Standing Water','Wet'])\nX[:,2] = le_road.transform(X[:,2])\n\nle_light = preprocessing.LabelEncoder()\nle_light.fit(['Dark - No Street Lights','Dark - Street Lights Off','Dark - Street Lights On','Dark - Unknown Lighting','Dawn','Daylight','Dusk','Other','Unknown'])\nX[:,3] = le_light.transform(X[:,3])\n"
        },
        {
            "cell_type": "code",
            "execution_count": 29,
            "metadata": {},
            "outputs": [
                {
                    "data": {
                        "text/plain": "array([[2, 4, 7, 5, 2, 2],\n       [1, 6, 7, 2, 2, 2],\n       [1, 4, 0, 5, 3, 4],\n       [1, 1, 0, 5, 3, 3],\n       [2, 6, 7, 5, 2, 2],\n       [2, 1, 0, 5, 2, 2]], dtype=object)"
                    },
                    "execution_count": 29,
                    "metadata": {},
                    "output_type": "execute_result"
                }
            ],
            "source": "X[0:6]"
        },
        {
            "cell_type": "markdown",
            "metadata": {},
            "source": "Now we can fill the target variable."
        },
        {
            "cell_type": "code",
            "execution_count": 60,
            "metadata": {},
            "outputs": [
                {
                    "data": {
                        "text/plain": "0    2\n1    1\n2    1\n3    1\n4    2\n5    1\nName: SEVERITYCODE, dtype: int64"
                    },
                    "execution_count": 60,
                    "metadata": {},
                    "output_type": "execute_result"
                }
            ],
            "source": "y = collisions_red[\"SEVERITYCODE\"]\ny[0:6]"
        },
        {
            "cell_type": "markdown",
            "metadata": {},
            "source": "<hr>\n\n<div id=\"setting_up_tree\">\n    <h2>Setting up the Decision Tree</h2>\n    We will be using <b>train/test split</b> on our <b>decision tree</b>. Let's import <b>train_test_split</b> from <b>sklearn.cross_validation</b>.\n</div>\n"
        },
        {
            "cell_type": "code",
            "execution_count": 61,
            "metadata": {},
            "outputs": [],
            "source": "from sklearn.model_selection import train_test_split"
        },
        {
            "cell_type": "code",
            "execution_count": 62,
            "metadata": {},
            "outputs": [],
            "source": "X_trainset, X_testset, y_trainset, y_testset = train_test_split(X, y, test_size=0.3, random_state=3)"
        },
        {
            "cell_type": "markdown",
            "metadata": {},
            "source": "<hr>\n\n<div id=\"Start Modeling\">\n    <h2>Start modeling</h2>"
        },
        {
            "cell_type": "markdown",
            "metadata": {},
            "source": "<hr>\n\n<div id=\"modeling\">\n    <h2>Modeling</h2>\n    We will first create an instance of the <b>DecisionTreeClassifier</b> called <b>drugTree</b>.<br>\n    Inside of the classifier, specify <i> criterion=\"entropy\" </i> so we can see the information gain of each node.\n</div>"
        },
        {
            "cell_type": "code",
            "execution_count": 63,
            "metadata": {},
            "outputs": [
                {
                    "data": {
                        "text/plain": "DecisionTreeClassifier(class_weight=None, criterion='entropy', max_depth=4,\n            max_features=None, max_leaf_nodes=None,\n            min_impurity_decrease=0.0, min_impurity_split=None,\n            min_samples_leaf=1, min_samples_split=2,\n            min_weight_fraction_leaf=0.0, presort=False, random_state=None,\n            splitter='best')"
                    },
                    "execution_count": 63,
                    "metadata": {},
                    "output_type": "execute_result"
                }
            ],
            "source": "drugTree = DecisionTreeClassifier(criterion=\"entropy\", max_depth = 4)\ndrugTree # it shows the default parameters"
        },
        {
            "cell_type": "code",
            "execution_count": 64,
            "metadata": {},
            "outputs": [
                {
                    "data": {
                        "text/plain": "DecisionTreeClassifier(class_weight=None, criterion='entropy', max_depth=4,\n            max_features=None, max_leaf_nodes=None,\n            min_impurity_decrease=0.0, min_impurity_split=None,\n            min_samples_leaf=1, min_samples_split=2,\n            min_weight_fraction_leaf=0.0, presort=False, random_state=None,\n            splitter='best')"
                    },
                    "execution_count": 64,
                    "metadata": {},
                    "output_type": "execute_result"
                }
            ],
            "source": "drugTree.fit(X_trainset,y_trainset)"
        },
        {
            "cell_type": "markdown",
            "metadata": {},
            "source": "<hr>\n\n<div id=\"prediction\">\n    <h2>Prediction</h2>\n    Let's make some <b>predictions</b> on the testing dataset and store it into a variable called <b>predTree</b>.\n</div>\n"
        },
        {
            "cell_type": "code",
            "execution_count": 65,
            "metadata": {},
            "outputs": [],
            "source": "predTree = drugTree.predict(X_testset)"
        },
        {
            "cell_type": "code",
            "execution_count": 94,
            "metadata": {},
            "outputs": [
                {
                    "name": "stdout",
                    "output_type": "stream",
                    "text": "[1 1 1 1 1]\n80979     1\n95372     1\n107749    1\n72584     1\n164741    1\nName: SEVERITYCODE, dtype: int64\n"
                }
            ],
            "source": "print (predTree [0:5])\nprint (y_testset [0:5])"
        },
        {
            "cell_type": "markdown",
            "metadata": {},
            "source": "# Evaluation\nBefore proceeding to the deployment stage, the model needs to be evaluated thoroughly to ensure that the business or the applications' objectives are achieved. Certain metrics can be used for the model evaluation such as accuracy, recall, F1-score, precision, and others.\nDeployment:"
        },
        {
            "cell_type": "markdown",
            "metadata": {},
            "source": "Next, let's import <b>metrics</b> from sklearn and check the accuracy of our model."
        },
        {
            "cell_type": "code",
            "execution_count": 111,
            "metadata": {},
            "outputs": [
                {
                    "name": "stdout",
                    "output_type": "stream",
                    "text": "DecisionTrees's Accuracy:  0.7247651331719128\n"
                }
            ],
            "source": "from sklearn import metrics\nimport matplotlib.pyplot as plt\nprint(\"DecisionTrees's Accuracy: \", metrics.accuracy_score(y_testset, predTree))"
        },
        {
            "cell_type": "markdown",
            "metadata": {},
            "source": "The Accuracy Classification Score has its maximum value by 1.0 so in this case 0.72 is a good accuracy."
        },
        {
            "cell_type": "markdown",
            "metadata": {},
            "source": "# Logistic Regression"
        },
        {
            "cell_type": "code",
            "execution_count": 112,
            "metadata": {},
            "outputs": [
                {
                    "name": "stdout",
                    "output_type": "stream",
                    "text": "Train set: (120456, 6) (120456,)\nTest set: (51625, 6) (51625,)\n"
                },
                {
                    "data": {
                        "text/plain": "LogisticRegression(C=0.01, class_weight=None, dual=False, fit_intercept=True,\n          intercept_scaling=1, max_iter=100, multi_class='warn',\n          n_jobs=None, penalty='l2', random_state=None, solver='liblinear',\n          tol=0.0001, verbose=0, warm_start=False)"
                    },
                    "execution_count": 112,
                    "metadata": {},
                    "output_type": "execute_result"
                }
            ],
            "source": "from sklearn import preprocessing\nX = preprocessing.StandardScaler().fit(X).transform(X)\n\nfrom sklearn.model_selection import train_test_split\nX_train, X_test, y_train, y_test = train_test_split( X, y, test_size=0.3, random_state=4)\nprint ('Train set:', X_train.shape,  y_train.shape)\nprint ('Test set:', X_test.shape,  y_test.shape)\n\nfrom sklearn.linear_model import LogisticRegression\nfrom sklearn.metrics import confusion_matrix\nLogR = LogisticRegression(C=0.01, solver='liblinear').fit(X_train,y_train)\nLogR"
        },
        {
            "cell_type": "code",
            "execution_count": 113,
            "metadata": {},
            "outputs": [
                {
                    "data": {
                        "text/plain": "array([[0.51, 0.49],\n       [0.62, 0.38],\n       [0.56, 0.44],\n       ...,\n       [0.76, 0.24],\n       [0.78, 0.22],\n       [0.76, 0.24]])"
                    },
                    "execution_count": 113,
                    "metadata": {},
                    "output_type": "execute_result"
                }
            ],
            "source": "yhat = LogR.predict(X_test)\nyhat\nyhat_prob = LogR.predict_proba(X_test)\nyhat_prob"
        },
        {
            "cell_type": "code",
            "execution_count": 127,
            "metadata": {},
            "outputs": [
                {
                    "data": {
                        "text/plain": "array([[0.51, 0.49],\n       [0.62, 0.38],\n       [0.56, 0.44],\n       ...,\n       [0.76, 0.24],\n       [0.78, 0.22],\n       [0.76, 0.24]])"
                    },
                    "execution_count": 127,
                    "metadata": {},
                    "output_type": "execute_result"
                }
            ],
            "source": "yhat"
        },
        {
            "cell_type": "code",
            "execution_count": 114,
            "metadata": {},
            "outputs": [
                {
                    "name": "stdout",
                    "output_type": "stream",
                    "text": "Logistic Regressions' Accuracy:  0.6984213075060532\n"
                }
            ],
            "source": "print(\"Logistic Regressions' Accuracy: \", metrics.accuracy_score(y_test, yhat))"
        },
        {
            "cell_type": "markdown",
            "metadata": {},
            "source": "The Accuracy Score of the Logistic Regression is about 0.69 so our decisions' tree accuary is slighty better on our test data"
        },
        {
            "cell_type": "markdown",
            "metadata": {},
            "source": "# Results"
        },
        {
            "cell_type": "code",
            "execution_count": 115,
            "metadata": {},
            "outputs": [],
            "source": "from sklearn.metrics import jaccard_similarity_score\nfrom sklearn.metrics import f1_score\nfrom sklearn.metrics import log_loss"
        },
        {
            "cell_type": "code",
            "execution_count": 128,
            "metadata": {},
            "outputs": [
                {
                    "name": "stdout",
                    "output_type": "stream",
                    "text": "Avg F1-score: 0.67\nDecision Tree Jaccard Score: 0.72\nLogLoss: : 0.60\nAvg F1-score: 0.6409\nLOG Jaccard score: 0.7002\n"
                }
            ],
            "source": "\n\nDTJaccard = jaccard_similarity_score(y_testset, predTree)\nDTF1 = f1_score(y_testset, predTree, average='weighted')\nprint(\"Avg F1-score: %.2f\" % DTF1 )\nprint(\"Decision Tree Jaccard Score: %.2f\" % DTJaccard)\n\n\nyhatLOG = LogR.predict(X)\nyhatLOGproba = LogR.predict_proba(X)\nLogRJaccard = jaccard_similarity_score(y, yhatLOG)\nLogRF1 = f1_score(y, yhatLOG, average='weighted')\nLogloss = log_loss(y, yhatLOGproba)\nprint(\"LogLoss: : %.2f\" % Logloss)\nprint(\"Avg F1-score: %.4f\" % LogRF1)\nprint(\"LOG Jaccard score: %.4f\" % LogRJaccard)"
        },
        {
            "cell_type": "markdown",
            "metadata": {},
            "source": "| Algorithm          | Jaccard | F1-score | LogLoss |\n|--------------------|---------|----------|---------|\n| Decision Tree      | 0.72    | 0.67     | NA      |\n| LogisticRegression | 0.7002  | 0.6409   | 0.60    |"
        },
        {
            "cell_type": "markdown",
            "metadata": {},
            "source": "Let\u2019s first look at one of the simplest accuracy measurements, the Jaccard index -- also known as the Jaccard similarity coefficient. Let\u2019s say y shows the true labels of the churn dataset. And y \u0302 shows the predicted values by our classifier. Then we can define Jaccard as the size of the intersection divided by the size of the union of two label sets.\n\nThe F1 score is calculated based on the precision and recall of each class. It is the weighted average of the Precision and the recall scores. The F1 score reaches its perfect value at one and worst at 0.It is a very good way to show that a classifies has a good recall and precision values.\n\n\nIf we conlcude the accuracy of our two models run here we can see that our decision tree performed a slighty more accurate prediction (Jaccard and F1) on our labeled data than the logistic regression model."
        },
        {
            "cell_type": "markdown",
            "metadata": {},
            "source": "# Conclusion"
        },
        {
            "cell_type": "markdown",
            "metadata": {},
            "source": "After assessing the data and the output of the Machine Learning models, a few recommendations can be made for the stakeholders. By using the the decision tree model SPD will be able to predict the severity of an future accident given the feauteres we selected in our use case. In the exploraty part i have also shown how the selected features may influence the number of accidents.\n\nBesides that, special activated apps on a vehicles dashboard can be used to warn a driver whether the location that they are heading have what quantitative value of an accident happening. The future introduction of AI in vehicles to help accident prevention could play a very important role with the data we have now."
        }
    ],
    "metadata": {
        "kernelspec": {
            "display_name": "Python 3.6",
            "language": "python",
            "name": "python3"
        },
        "language_info": {
            "codemirror_mode": {
                "name": "ipython",
                "version": 3
            },
            "file_extension": ".py",
            "mimetype": "text/x-python",
            "name": "python",
            "nbconvert_exporter": "python",
            "pygments_lexer": "ipython3",
            "version": "3.6.9"
        }
    },
    "nbformat": 4,
    "nbformat_minor": 4
}